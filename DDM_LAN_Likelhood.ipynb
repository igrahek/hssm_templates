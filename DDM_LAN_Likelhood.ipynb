{
 "cells": [
  {
   "cell_type": "markdown",
   "id": "686cc0f4",
   "metadata": {},
   "source": [
    "## Load the packages"
   ]
  },
  {
   "cell_type": "code",
   "execution_count": 1,
   "id": "04367883",
   "metadata": {},
   "outputs": [
    {
     "name": "stderr",
     "output_type": "stream",
     "text": [
      "WARNING (pytensor.tensor.blas): Using NumPy C-API based implementation for BLAS functions.\n",
      "/users/igrahek/anaconda/pyHSSM/lib/python3.11/site-packages/tqdm/auto.py:21: TqdmWarning: IProgress not found. Please update jupyter and ipywidgets. See https://ipywidgets.readthedocs.io/en/stable/user_install.html\n",
      "  from .autonotebook import tqdm as notebook_tqdm\n"
     ]
    }
   ],
   "source": [
    "# Import the packages\n",
    "import hssm\n",
    "import pytensor  # Graph-based tensor library\n",
    "import bambi as bmb\n",
    "import pandas as pd\n",
    "from matplotlib import pyplot as plt\n",
    "import arviz as az\n",
    "import numpy as np\n",
    "import pymc as pm\n",
    "\n",
    "# Setting float precision in pytensor\n",
    "pytensor.config.floatX = \"float32\"\n",
    "pytensor.config.optimizer = 'None'\n",
    "from jax.config import config\n",
    "config.update(\"jax_enable_x64\", False)"
   ]
  },
  {
   "cell_type": "markdown",
   "id": "87b4a7c3",
   "metadata": {},
   "source": [
    "## Load the data"
   ]
  },
  {
   "cell_type": "code",
   "execution_count": 2,
   "id": "64028590",
   "metadata": {},
   "outputs": [
    {
     "data": {
      "image/png": "[encoded data removed]",
      "text/plain": [
       "<Figure size 640x480 with 1 Axes>"
      ]
     },
     "metadata": {},
     "output_type": "display_data"
    }
   ],
   "source": [
    "# Load a package-supplied dataset\n",
    "data = hssm.load_data('cavanagh_theta')\n",
    "\n",
    "# Plot the RTs\n",
    "data['response'] = data['response'].replace(0, -1)\n",
    "plt.hist(data['rt']*data['response'], bins=20)\n",
    "plt.show()"
   ]
  },
  {
   "cell_type": "code",
   "execution_count": 3,
   "id": "a2d63ec6",
   "metadata": {},
   "outputs": [
    {
     "data": {
      "text/html": [
       "<div>\n",
       "<style scoped>\n",
       "    .dataframe tbody tr th:only-of-type {\n",
       "        vertical-align: middle;\n",
       "    }\n",
       "\n",
       "    .dataframe tbody tr th {\n",
       "        vertical-align: top;\n",
       "    }\n",
       "\n",
       "    .dataframe thead th {\n",
       "        text-align: right;\n",
       "    }\n",
       "</style>\n",
       "<table border=\"1\" class=\"dataframe\">\n",
       "  <thead>\n",
       "    <tr style=\"text-align: right;\">\n",
       "      <th></th>\n",
       "      <th>subj_idx</th>\n",
       "      <th>stim</th>\n",
       "      <th>rt</th>\n",
       "      <th>response</th>\n",
       "      <th>theta</th>\n",
       "      <th>dbs</th>\n",
       "      <th>conf</th>\n",
       "    </tr>\n",
       "  </thead>\n",
       "  <tbody>\n",
       "    <tr>\n",
       "      <th>0</th>\n",
       "      <td>0</td>\n",
       "      <td>LL</td>\n",
       "      <td>1.21</td>\n",
       "      <td>1.0</td>\n",
       "      <td>0.656275</td>\n",
       "      <td>1</td>\n",
       "      <td>HC</td>\n",
       "    </tr>\n",
       "    <tr>\n",
       "      <th>1</th>\n",
       "      <td>0</td>\n",
       "      <td>WL</td>\n",
       "      <td>1.63</td>\n",
       "      <td>1.0</td>\n",
       "      <td>-0.327889</td>\n",
       "      <td>1</td>\n",
       "      <td>LC</td>\n",
       "    </tr>\n",
       "    <tr>\n",
       "      <th>2</th>\n",
       "      <td>0</td>\n",
       "      <td>WW</td>\n",
       "      <td>1.03</td>\n",
       "      <td>1.0</td>\n",
       "      <td>-0.480285</td>\n",
       "      <td>1</td>\n",
       "      <td>HC</td>\n",
       "    </tr>\n",
       "    <tr>\n",
       "      <th>3</th>\n",
       "      <td>0</td>\n",
       "      <td>WL</td>\n",
       "      <td>2.77</td>\n",
       "      <td>1.0</td>\n",
       "      <td>1.927427</td>\n",
       "      <td>1</td>\n",
       "      <td>LC</td>\n",
       "    </tr>\n",
       "    <tr>\n",
       "      <th>4</th>\n",
       "      <td>0</td>\n",
       "      <td>WW</td>\n",
       "      <td>1.14</td>\n",
       "      <td>-1.0</td>\n",
       "      <td>-0.213236</td>\n",
       "      <td>1</td>\n",
       "      <td>HC</td>\n",
       "    </tr>\n",
       "  </tbody>\n",
       "</table>\n",
       "</div>"
      ],
      "text/plain": [
       "   subj_idx stim    rt  response     theta  dbs conf\n",
       "0         0   LL  1.21       1.0  0.656275    1   HC\n",
       "1         0   WL  1.63       1.0 -0.327889    1   LC\n",
       "2         0   WW  1.03       1.0 -0.480285    1   HC\n",
       "3         0   WL  2.77       1.0  1.927427    1   LC\n",
       "4         0   WW  1.14      -1.0 -0.213236    1   HC"
      ]
     },
     "execution_count": 3,
     "metadata": {},
     "output_type": "execute_result"
    }
   ],
   "source": [
    "data.head()"
   ]
  },
  {
   "cell_type": "markdown",
   "id": "a6aa7ca7",
   "metadata": {},
   "source": [
    "## Specify the model"
   ]
  },
  {
   "cell_type": "code",
   "execution_count": 4,
   "id": "68887566",
   "metadata": {},
   "outputs": [],
   "source": [
    "# Specify the model\n",
    "model = hssm.HSSM(\n",
    "    model=\"ddm\",\n",
    "    loglik_kind=\"approx_differentiable\",\n",
    "    data=data,\n",
    "    p_outlier={\"name\": \"Uniform\", \"lower\": 0.01, \"upper\": 0.05},\n",
    "    lapse=bmb.Prior(\"Uniform\", lower=0.0, upper=20.0),\n",
    "    include=[\n",
    "        {\n",
    "            \"name\": \"v\",\n",
    "            \"prior\": {\n",
    "                \"Intercept\": {\"name\": \"Normal\", \"mu\": 0.0, \"sigma\": 1.0},\n",
    "                \"1|subj_idx\": {\"name\": \"Normal\", \"mu\":0.0, \"sigma\":{\"name\": \"Gamma\",  \"alpha\": 2.0, \"beta\": 10.0}},\n",
    "                \n",
    "                \"conf\": {\"name\": \"Normal\", \"mu\": 0.0, \"sigma\": 0.5},\n",
    "                \"1|conf\": {\"name\": \"Normal\", \"mu\":0.0, \"sigma\":{\"name\": \"Gamma\",  \"alpha\": 2.0, \"beta\": 10.0}},\n",
    "            },\n",
    "            \"formula\": \"v ~ 1 + conf + (1 + conf|subj_idx)\",\n",
    "        },\n",
    "        {\n",
    "            \"name\": \"a\",\n",
    "            \"prior\": {\n",
    "                \"Intercept\": {\"name\": \"Gamma\", \"alpha\": 2.0, \"beta\": 10.0},\n",
    "                \"1|subj_idx\": {\"name\": \"Normal\", \"mu\":0.0, \"sigma\":{\"name\": \"Gamma\",  \"alpha\": 2.0, \"beta\": 10.0}},\n",
    "                \n",
    "                \"conf\": {\"name\": \"Normal\", \"mu\": 0.0, \"sigma\": 0.2},\n",
    "                \"1|conf\": {\"name\": \"Normal\", \"mu\":0.0, \"sigma\":{\"name\": \"Gamma\",  \"alpha\": 2.0, \"beta\": 10.0}},\n",
    "            },\n",
    "            \"formula\": \"a ~ 1 + conf + (1 + conf|subj_idx)\",\n",
    "        },\n",
    "        {\n",
    "            \"name\": \"z\",\n",
    "            \"prior\": {\n",
    "                \"Intercept\": {\"name\": \"Uniform\", \"lower\": 0.1, \"upper\": 0.9},\n",
    "                \"1|subj_idx\": {\"name\": \"Normal\", \"mu\":0.0, \"sigma\":{\"name\": \"Gamma\",  \"alpha\": 2.0, \"beta\": 10.0}},\n",
    "                \n",
    "                \"conf\": {\"name\": \"Normal\", \"mu\": 0.0, \"sigma\": 0.2},\n",
    "                \"1|conf\": {\"name\": \"Normal\", \"mu\":0.0, \"sigma\":{\"name\": \"Gamma\",  \"alpha\": 2.0, \"beta\": 10.0}},\n",
    "            },\n",
    "            \"formula\": \"z ~ 1 + conf + (1 + conf|subj_idx)\",\n",
    "        },\n",
    "    ],\n",
    ")"
   ]
  },
  {
   "cell_type": "markdown",
   "id": "bfea6742",
   "metadata": {},
   "source": [
    "## Set the initial values for the sampler"
   ]
  },
  {
   "cell_type": "code",
   "execution_count": 5,
   "id": "22e992c2",
   "metadata": {},
   "outputs": [],
   "source": [
    "# Specify the dictionary of initial values\n",
    "n_subjects = len(data.subj_idx.unique())\n",
    "n_subjects\n",
    "\n",
    "# To check the shapes of all variables:\n",
    "# model.pymc_model.eval_rv_shapes()\n",
    "\n",
    "# To check the initial points (init method might changes these; \n",
    "#e.g. jitter might be added when you run the model; \n",
    "#we use init=\"adapt_diag\" to avoid this):\n",
    "# model.pymc_model.initial_point()\n",
    "\n",
    "my_inits = {'t': 0.1,\n",
    "                                  \n",
    "            'v_Intercept': 0.0,\n",
    "            'v_1|subj_idx_sigma': 0.01,\n",
    "            'v_1|subj_idx_offset': np.zeros((n_subjects,)).astype(np.float32), # Watch out: shape=(n_subjects,)\n",
    "            \n",
    "            'v_conf': np.array([0.0]).astype(np.float32),\n",
    "            'v_conf|subj_idx_sigma': np.array([0.01]).astype(np.float32),\n",
    "            'v_conf|subj_idx_offset': np.zeros((n_subjects, 1)).astype(np.float32),\n",
    "            \n",
    "            'a_Intercept': 1.0,\n",
    "            'a_1|subj_idx_sigma': 0.1,\n",
    "            'a_1|subj_idx_offset': np.zeros((n_subjects,)).astype(np.float32), # Watch out: shape=(n_subjects,)\n",
    "            \n",
    "            'a_conf': np.array([0.0]).astype(np.float32),\n",
    "            'a_conf|subj_idx_sigma': np.array([0.01]).astype(np.float32),\n",
    "            'a_conf|subj_idx_offset': np.zeros((n_subjects, 1)).astype(np.float32),\n",
    "            \n",
    "            'z_Intercept': 0.5,\n",
    "            'z_1|subj_idx_sigma': 0.1,\n",
    "            'z_1|subj_idx_offset': np.zeros((n_subjects,)).astype(np.float32), # Watch out: shape=(n_subjects,)\n",
    "            \n",
    "            'z_conf': np.array([0.0]).astype(np.float32),\n",
    "            'z_conf|subj_idx_sigma': np.array([0.01]).astype(np.float32),\n",
    "            'z_conf|subj_idx_offset': np.zeros((n_subjects, 1)).astype(np.float32),\n",
    "           }\n"
   ]
  },
  {
   "cell_type": "markdown",
   "id": "6026c4fb",
   "metadata": {},
   "source": [
    "## Fit the model"
   ]
  },
  {
   "cell_type": "code",
   "execution_count": null,
   "id": "6d1e2443",
   "metadata": {
    "scrolled": false
   },
   "outputs": [
    {
     "name": "stdout",
     "output_type": "stream",
     "text": [
      "Compiling...\n"
     ]
    },
    {
     "name": "stderr",
     "output_type": "stream",
     "text": [
      "No GPU/TPU found, falling back to CPU. (Set TF_CPP_MIN_LOG_LEVEL=0 and rerun for more info.)\n"
     ]
    },
    {
     "name": "stdout",
     "output_type": "stream",
     "text": [
      "Compilation time =  0:00:06.199464\n",
      "Sampling...\n"
     ]
    },
    {
     "name": "stderr",
     "output_type": "stream",
     "text": [
      "/users/igrahek/anaconda/pyHSSM/lib/python3.11/site-packages/pytensor/link/jax/dispatch/scalar.py:135: UserWarning: Explicitly requested dtype float64 requested in astype is not available, and will be truncated to dtype float32. To enable more dtypes, set the jax_enable_x64 configuration option or the JAX_ENABLE_X64 shell environment variable. See https://github.com/google/jax#current-gotchas for more.\n",
      "  return jnp.array(x).astype(op.o_type.dtype)\n",
      "/users/igrahek/anaconda/pyHSSM/lib/python3.11/site-packages/pytensor/link/jax/dispatch/elemwise.py:35: UserWarning: Explicitly requested dtype float64 requested in astype is not available, and will be truncated to dtype float32. To enable more dtypes, set the jax_enable_x64 configuration option or the JAX_ENABLE_X64 shell environment variable. See https://github.com/google/jax#current-gotchas for more.\n",
      "  return jax_op(x, axis=axis).astype(acc_dtype)\n",
      "/users/igrahek/anaconda/pyHSSM/lib/python3.11/site-packages/pytensor/link/jax/dispatch/tensor_basic.py:177: UserWarning: Explicitly requested dtype float64 requested in array is not available, and will be truncated to dtype float32. To enable more dtypes, set the jax_enable_x64 configuration option or the JAX_ENABLE_X64 shell environment variable. See https://github.com/google/jax#current-gotchas for more.\n",
      "  return jnp.array(x, dtype=op.dtype)\n",
      "Compiling.. :   0%|          | 0/400 [00:00<?, ?it/s]\n",
      "  0%|          | 0/400 [00:00<?, ?it/s]\u001b[A\n",
      "Compiling.. :   0%|          | 0/400 [00:00<?, ?it/s]\u001b[A\n",
      "\n",
      "  0%|          | 0/400 [00:00<?, ?it/s]\u001b[A\u001b[A\n",
      "\n",
      "Compiling.. :   0%|          | 0/400 [00:00<?, ?it/s]\u001b[A\u001b[A\n",
      "\n",
      "\n",
      "  0%|          | 0/400 [00:00<?, ?it/s]\u001b[A\u001b[A\u001b[A\n",
      "\n",
      "\n",
      "Running chain 0:   0%|          | 0/400 [00:09<?, ?it/s]\u001b[A\u001b[A\n",
      "\n",
      "\n",
      "Running chain 3:   0%|          | 0/400 [00:09<?, ?it/s]\u001b[A\u001b[A\u001b[A\n",
      "\n",
      "Running chain 2:   0%|          | 0/400 [00:09<?, ?it/s]\u001b[A\u001b[A\n",
      "Running chain 0:   5%|▌         | 20/400 [00:12<01:05,  5.81it/s]\n",
      "\n",
      "Running chain 2:   5%|▌         | 20/400 [01:02<16:44,  2.64s/it]\u001b[A\u001b[A\n",
      "Running chain 1:   5%|▌         | 20/400 [01:04<17:30,  2.77s/it]\u001b[A\n",
      "\n",
      "\n",
      "Running chain 0:  10%|█         | 40/400 [01:25<13:11,  2.20s/it]\u001b[A\u001b[A\u001b[A"
     ]
    }
   ],
   "source": [
    "# Sample\n",
    "modelObject = model.sample(\n",
    "    sampler=\"nuts_numpyro\", \n",
    "    initvals = my_inits, \n",
    "    chains=4, \n",
    "    cores=4, \n",
    "    draws=200, \n",
    "    tune=200,\n",
    "    #target_accept=0.95\n",
    ")"
   ]
  },
  {
   "cell_type": "markdown",
   "id": "04d986ba",
   "metadata": {},
   "source": [
    "## Analyze the posterior"
   ]
  },
  {
   "cell_type": "code",
   "execution_count": null,
   "id": "e37ef556",
   "metadata": {},
   "outputs": [],
   "source": [
    "# PLot the traces\n",
    "az.rcParams[\"plot.max_subplots\"] = 38\n",
    "az.plot_trace(modelObject)\n",
    "plt.tight_layout()\n",
    "plt.show()"
   ]
  },
  {
   "cell_type": "code",
   "execution_count": null,
   "id": "2f27af60",
   "metadata": {
    "scrolled": true
   },
   "outputs": [],
   "source": [
    "# Parameter estimates\n",
    "pd.set_option('display.max_rows', 500)\n",
    "az.summary(modelObject, var_names=['~a','~t', '~z'])\n"
   ]
  },
  {
   "cell_type": "code",
   "execution_count": null,
   "id": "7c9ea08f",
   "metadata": {},
   "outputs": [],
   "source": [
    "# Posterior pair plot\n",
    "az.plot_pair(modelObject, kind=\"kde\")\n"
   ]
  },
  {
   "cell_type": "code",
   "execution_count": null,
   "id": "e06f126e",
   "metadata": {},
   "outputs": [],
   "source": [
    "modelObject[\"posterior.a_Intercept\"] = np.exp(modelObject.posterior.a_Intercept)"
   ]
  }
 ],
 "metadata": {
  "kernelspec": {
   "display_name": "pyHSSM",
   "language": "python",
   "name": "pyhssm"
  },
  "language_info": {
   "codemirror_mode": {
    "name": "ipython",
    "version": 3
   },
   "file_extension": ".py",
   "mimetype": "text/x-python",
   "name": "python",
   "nbconvert_exporter": "python",
   "pygments_lexer": "ipython3",
   "version": "3.11.0"
  }
 },
 "nbformat": 4,
 "nbformat_minor": 5
}
