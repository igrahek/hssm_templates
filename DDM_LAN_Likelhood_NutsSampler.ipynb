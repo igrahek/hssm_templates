{
 "cells": [
  {
   "cell_type": "markdown",
   "id": "686cc0f4",
   "metadata": {},
   "source": [
    "## Load the packages"
   ]
  },
  {
   "cell_type": "code",
   "execution_count": null,
   "id": "04367883",
   "metadata": {},
   "outputs": [],
   "source": [
    "# Import the packages\n",
    "import hssm\n",
    "import pytensor  # Graph-based tensor library\n",
    "import bambi as bmb\n",
    "import pandas as pd\n",
    "from matplotlib import pyplot as plt\n",
    "import arviz as az\n",
    "import numpy as np\n",
    "import pymc as pm\n",
    "\n",
    "# Setting float precision in pytensor\n",
    "pytensor.config.floatX = \"float32\"\n",
    "pytensor.config.optimizer = 'None'\n",
    "from jax.config import config\n",
    "config.update(\"jax_enable_x64\", False)"
   ]
  },
  {
   "cell_type": "markdown",
   "id": "87b4a7c3",
   "metadata": {},
   "source": [
    "## Load the data"
   ]
  },
  {
   "cell_type": "code",
   "execution_count": null,
   "id": "64028590",
   "metadata": {},
   "outputs": [],
   "source": [
    "# Load a package-supplied dataset\n",
    "data = hssm.load_data('cavanagh_theta')\n",
    "\n",
    "# Plot the RTs\n",
    "data['response'] = data['response'].replace(0, -1)\n",
    "plt.hist(data['rt']*data['response'], bins=20)\n",
    "plt.show()"
   ]
  },
  {
   "cell_type": "code",
   "execution_count": null,
   "id": "a2d63ec6",
   "metadata": {},
   "outputs": [],
   "source": [
    "data.head()"
   ]
  },
  {
   "cell_type": "markdown",
   "id": "a6aa7ca7",
   "metadata": {},
   "source": [
    "## Specify the model"
   ]
  },
  {
   "cell_type": "code",
   "execution_count": 4,
   "id": "68887566",
   "metadata": {},
   "outputs": [],
   "source": [
    "# Specify the model\n",
    "model = hssm.HSSM(\n",
    "    model=\"ddm\",\n",
    "    loglik_kind=\"approx_differentiable\",\n",
    "    data=data,\n",
    "    p_outlier={\"name\": \"Uniform\", \"lower\": 0.01, \"upper\": 0.05},\n",
    "    lapse=bmb.Prior(\"Uniform\", lower=0.0, upper=20.0),\n",
    "    include=[\n",
    "        {\n",
    "            \"name\": \"v\",\n",
    "            \"prior\": {\n",
    "                \"Intercept\": {\"name\": \"Normal\", \"mu\": 0.0, \"sigma\": 1.0},\n",
    "                \"1|subj_idx\": {\"name\": \"Normal\", \"mu\":0.0, \"sigma\":{\"name\": \"Gamma\",  \"alpha\": 2.0, \"beta\": 10.0}},\n",
    "                \n",
    "                \"conf\": {\"name\": \"Normal\", \"mu\": 0.0, \"sigma\": 0.5},\n",
    "                \"1|conf\": {\"name\": \"Normal\", \"mu\":0.0, \"sigma\":{\"name\": \"Gamma\",  \"alpha\": 2.0, \"beta\": 10.0}},\n",
    "            },\n",
    "            \"formula\": \"v ~ 1 + conf + (1 + conf|subj_idx)\",\n",
    "        },\n",
    "        {\n",
    "            \"name\": \"a\",\n",
    "            \"prior\": {\n",
    "                \"Intercept\": {\"name\": \"Gamma\", \"alpha\": 2.0, \"beta\": 10.0},\n",
    "                \"1|subj_idx\": {\"name\": \"Normal\", \"mu\":0.0, \"sigma\":{\"name\": \"Gamma\",  \"alpha\": 2.0, \"beta\": 10.0}},\n",
    "                \n",
    "                \"conf\": {\"name\": \"Normal\", \"mu\": 0.0, \"sigma\": 0.2},\n",
    "                \"1|conf\": {\"name\": \"Normal\", \"mu\":0.0, \"sigma\":{\"name\": \"Gamma\",  \"alpha\": 2.0, \"beta\": 10.0}},\n",
    "            },\n",
    "            \"formula\": \"a ~ 1 + conf + (1 + conf|subj_idx)\",\n",
    "        },\n",
    "        {\n",
    "            \"name\": \"z\",\n",
    "            \"prior\": {\n",
    "                \"Intercept\": {\"name\": \"Uniform\", \"lower\": 0.1, \"upper\": 0.9},\n",
    "                \"1|subj_idx\": {\"name\": \"Normal\", \"mu\":0.0, \"sigma\":{\"name\": \"Gamma\",  \"alpha\": 2.0, \"beta\": 10.0}},\n",
    "                \n",
    "                \"conf\": {\"name\": \"Normal\", \"mu\": 0.0, \"sigma\": 0.2},\n",
    "                \"1|conf\": {\"name\": \"Normal\", \"mu\":0.0, \"sigma\":{\"name\": \"Gamma\",  \"alpha\": 2.0, \"beta\": 10.0}},\n",
    "            },\n",
    "            \"formula\": \"z ~ 1 + conf + (1 + conf|subj_idx)\",\n",
    "        },\n",
    "    ],\n",
    ")"
   ]
  },
  {
   "cell_type": "markdown",
   "id": "bfea6742",
   "metadata": {},
   "source": [
    "## Set the initial values for the sampler"
   ]
  },
  {
   "cell_type": "code",
   "execution_count": 5,
   "id": "22e992c2",
   "metadata": {},
   "outputs": [],
   "source": [
    "# Specify the dictionary of initial values\n",
    "n_subjects = len(data.subj_idx.unique())\n",
    "n_subjects\n",
    "\n",
    "# To check the shapes of all variables:\n",
    "# model.pymc_model.eval_rv_shapes()\n",
    "\n",
    "# To check the initial points (init method might changes these; \n",
    "#e.g. jitter might be added when you run the model; \n",
    "#we use init=\"adapt_diag\" to avoid this):\n",
    "# model.pymc_model.initial_point()\n",
    "\n",
    "my_inits = {'t': 0.1,\n",
    "                                  \n",
    "            'v_Intercept': 0.0,\n",
    "            'v_1|subj_idx_sigma': 0.01,\n",
    "            'v_1|subj_idx_offset': np.zeros((n_subjects,)).astype(np.float32), # Watch out: shape=(n_subjects,)\n",
    "            \n",
    "            'v_conf': np.array([0.0]).astype(np.float32),\n",
    "            'v_conf|subj_idx_sigma': np.array([0.1]).astype(np.float32),\n",
    "            'v_conf|subj_idx_offset': np.zeros((n_subjects, 1)).astype(np.float32),\n",
    "            \n",
    "            'a_Intercept': 1.0,\n",
    "            'a_1|subj_idx_sigma': 0.1,\n",
    "            'a_1|subj_idx_offset': np.zeros((n_subjects,)).astype(np.float32), # Watch out: shape=(n_subjects,)\n",
    "            \n",
    "            'a_conf': np.array([0.0]).astype(np.float32),\n",
    "            'a_conf|subj_idx_sigma': np.array([0.1]).astype(np.float32),\n",
    "            'a_conf|subj_idx_offset': np.zeros((n_subjects, 1)).astype(np.float32),\n",
    "            \n",
    "            'z_Intercept': 0.5,\n",
    "            'z_1|subj_idx_sigma': 0.1,\n",
    "            'z_1|subj_idx_offset': np.zeros((n_subjects,)).astype(np.float32), # Watch out: shape=(n_subjects,)\n",
    "            \n",
    "            'z_conf': np.array([0.0]).astype(np.float32),\n",
    "            'z_conf|subj_idx_sigma': np.array([0.1]).astype(np.float32),\n",
    "            'z_conf|subj_idx_offset': np.zeros((n_subjects, 1)).astype(np.float32),\n",
    "           }\n"
   ]
  },
  {
   "cell_type": "markdown",
   "id": "6026c4fb",
   "metadata": {},
   "source": [
    "## Fit the model"
   ]
  },
  {
   "cell_type": "code",
   "execution_count": null,
   "id": "6d1e2443",
   "metadata": {
    "scrolled": false
   },
   "outputs": [],
   "source": [
    "# Sample\n",
    "modelObject = model.sample(\n",
    "    sampler=\"nuts_numpyro\", \n",
    "    initvals = my_inits, \n",
    "    chains=4, \n",
    "    cores=4, \n",
    "    draws=200, \n",
    "    tune=200,\n",
    "    #target_accept=0.95\n",
    ")"
   ]
  },
  {
   "cell_type": "markdown",
   "id": "04d986ba",
   "metadata": {},
   "source": [
    "## Analyze the posterior"
   ]
  },
  {
   "cell_type": "code",
   "execution_count": null,
   "id": "e37ef556",
   "metadata": {},
   "outputs": [],
   "source": [
    "# PLot the traces\n",
    "az.rcParams[\"plot.max_subplots\"] = 20\n",
    "az.plot_trace(modelObject)\n",
    "plt.tight_layout()\n",
    "plt.show()"
   ]
  },
  {
   "cell_type": "code",
   "execution_count": null,
   "id": "2f27af60",
   "metadata": {
    "scrolled": true
   },
   "outputs": [],
   "source": [
    "# Parameter estimates\n",
    "pd.set_option('display.max_rows', 500)\n",
    "az.summary(modelObject, var_names=['~a','~t', '~z'])\n"
   ]
  },
  {
   "cell_type": "code",
   "execution_count": null,
   "id": "b27c36f1",
   "metadata": {},
   "outputs": [],
   "source": [
    "# Plot the posteriors\n",
    "az.rcParams[\"plot.max_subplots\"] = 20\n",
    "az.plot_posterior(modelObject, var_names=['~a','~t', '~z'])"
   ]
  },
  {
   "cell_type": "code",
   "execution_count": null,
   "id": "7c9ea08f",
   "metadata": {},
   "outputs": [],
   "source": [
    "# Posterior pair plot\n",
    "az.plot_pair(modelObject, kind=\"kde\")\n"
   ]
  }
 ],
 "metadata": {
  "kernelspec": {
   "display_name": "pyHSSM",
   "language": "python",
   "name": "pyhssm"
  },
  "language_info": {
   "codemirror_mode": {
    "name": "ipython",
    "version": 3
   },
   "file_extension": ".py",
   "mimetype": "text/x-python",
   "name": "python",
   "nbconvert_exporter": "python",
   "pygments_lexer": "ipython3",
   "version": "3.11.0"
  }
 },
 "nbformat": 4,
 "nbformat_minor": 5
}
